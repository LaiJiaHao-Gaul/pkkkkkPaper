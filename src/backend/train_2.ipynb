{
 "cells": [
  {
   "cell_type": "code",
   "execution_count": 103,
   "id": "2f036fba-78a3-4353-8901-54779ca4b501",
   "metadata": {
    "scrolled": true
   },
   "outputs": [
    {
     "name": "stdout",
     "output_type": "stream",
     "text": [
      "                                            Question  \\\n",
      "0              What is supervised machine learning?    \n",
      "1  What is regression? Which models can you use t...   \n",
      "2     What is linear regression? When do we use it?    \n",
      "3  What are the main assumptions of linear regres...   \n",
      "4  What is the normal distribution? Why do we car...   \n",
      "\n",
      "                                              Answer  \n",
      "0  Supervised learning is a type of machine learn...  \n",
      "1  Regression is a part of supervised ML. Regress...  \n",
      "2  Linear regression is a model that assumes a li...  \n",
      "3  There are several assumptions of linear regres...  \n",
      "4  The normal distribution is a continuous probab...  \n",
      "                                            Question  \\\n",
      "0               What is supervised machine learning?   \n",
      "1  What is regression? Which models can you use t...   \n",
      "2      What is linear regression? When do we use it?   \n",
      "3  What are the main assumptions of linear regres...   \n",
      "4  What is the normal distribution? Why do we car...   \n",
      "\n",
      "                                              Answer  \n",
      "0  Supervised learning is a type of machine learn...  \n",
      "1  Regression is a part of supervised ML. Regress...  \n",
      "2  Linear regression is a model that assumes a li...  \n",
      "3  There are several assumptions of linear regres...  \n",
      "4  The normal distribution is a continuous probab...  \n"
     ]
    }
   ],
   "source": [
    "\n",
    "import pandas as pd\n",
    "import re\n",
    "import torch\n",
    "\n",
    "# 加载CSV文件\n",
    "file_path = '/Users/coco/Downloads/learning_chatbot/data/dataset2.csv'\n",
    "df = pd.read_csv(file_path)\n",
    "\n",
    "# 检查数据框架的前几行\n",
    "print(df.head())\n",
    "\n",
    "# 删除缺失值\n",
    "df.dropna(inplace=True)\n",
    "\n",
    "# 清理文本数据，去除多余的空格和不必要的符号\n",
    "def clean_text(text):\n",
    "    text = re.sub(r'\\s+', ' ', text)  # 删除多余的空格\n",
    "    text = text.strip()  # 删除首尾空格\n",
    "    return text\n",
    "\n",
    "df['Question'] = df['Question'].apply(clean_text)\n",
    "df['Answer'] = df['Answer'].apply(clean_text)\n",
    "\n",
    "# 验证清理后的数据\n",
    "print(df.head())"
   ]
  },
  {
   "cell_type": "code",
   "execution_count": 104,
   "id": "18242560-51a4-4864-9859-361d4348f8d2",
   "metadata": {},
   "outputs": [
    {
     "name": "stdout",
     "output_type": "stream",
     "text": [
      "[{'prompt': 'What is supervised machine learning?\\nPlease provide a detailed explanation:', 'completion': 'Supervised learning is a type of machine learning in which our algorithms are trained using well-labeled training data, and machines predict the output based on that data. Labeled data indicates that the_input data has already been tagged with the appropriate output. Basically, it is the task of learning a function that maps the input set and returns an output. Some of its examples are: Linear Regression, Logistic Regression, KNN, etc.'}, {'prompt': 'What is regression? Which models can you use to solve a regression problem?\\nPlease provide a detailed explanation:', 'completion': 'Regression is a part of supervised ML. Regression models investigate the relationship between a dependent (target) and independent variable (s) (predictor). Here are some common regression models - *Linear Regression* establishes a linear relationship between target and predictor (s). It predicts a numeric value and has a shape of a straight line. - *Polynomial Regression* has a regression equation with the power of independent variable more than 1. It is a curve that fits into the data points. - *Ridge Regression* helps when predictors are highly correlated (multicollinearity problem). It penalizes the squares of regression coefficients but doesn__ allow the coefficients to reach zeros (uses L2 regularization). - *Lasso Regression* penalizes the absolute values of regression coefficients and allows some of the coefficients to reach absolute zero (thereby allowing feature selection).'}, {'prompt': 'What is linear regression? When do we use it?\\nPlease provide a detailed explanation:', 'completion': 'Linear regression is a model that assumes a linear relationship between the input variables (X) and the single output variable (y). With a simple equation: ``` y = B0 + B1*x1 + ... + Bn * xN ``` B is regression coefficients, x values are the independent (explanatory) variables and y is dependent variable. The case of one explanatory variable is called simple linear regression. For more than one explanatory variable, the process is called multiple linear regression. Simple linear regression: ``` y = B0 + B1*x1 ``` Multiple linear regression: ``` y = B0 + B1*x1 + ... + Bn * xN ```'}]\n"
     ]
    }
   ],
   "source": [
    "# 将问题和答案组合成适合微调的格式\n",
    "data = []\n",
    "for index, row in df.iterrows():\n",
    "    # 使用更自然的提示方式来构建prompt\n",
    "    prompt = f\"{row['Question']}\\nPlease provide a detailed explanation:\"\n",
    "    \n",
    "    # 确保completion部分只包含答案，并去除前面的空格\n",
    "    completion = f\"{row['Answer']}\"\n",
    "    \n",
    "    data.append({'prompt': prompt, 'completion': completion})\n",
    "\n",
    "# 将格式化的数据保存为JSON文件以供训练使用\n",
    "import json\n",
    "\n",
    "formatted_file_path = '/Users/coco/Downloads/learning_chatbot/data/formatted_dataset.jsonl'\n",
    "with open(formatted_file_path, 'w') as outfile:\n",
    "    for entry in data:\n",
    "        json.dump(entry, outfile)\n",
    "        outfile.write('\\n')\n",
    "\n",
    "# 确认数据是否正确格式化\n",
    "print(data[:3])"
   ]
  },
  {
   "cell_type": "code",
   "execution_count": 105,
   "id": "9d9ad49f-78a7-4e94-95ef-a4f82e9c2c9d",
   "metadata": {},
   "outputs": [
    {
     "name": "stdout",
     "output_type": "stream",
     "text": [
      "Prompt长度统计:\n",
      "count    166.000000\n",
      "mean      12.716867\n",
      "std        5.139091\n",
      "min        4.000000\n",
      "25%       10.000000\n",
      "50%       11.500000\n",
      "75%       15.000000\n",
      "max       31.000000\n",
      "Name: prompt_length, dtype: float64\n",
      "\n",
      "Completion长度统计:\n",
      "count    166.000000\n",
      "mean      79.789157\n",
      "std       69.867217\n",
      "min        2.000000\n",
      "25%       37.250000\n",
      "50%       61.500000\n",
      "75%      108.500000\n",
      "max      531.000000\n",
      "Name: completion_length, dtype: float64\n"
     ]
    },
    {
     "data": {
      "image/png": "[encoded data removed]",
      "text/plain": [
       "<Figure size 640x480 with 1 Axes>"
      ]
     },
     "metadata": {},
     "output_type": "display_data"
    }
   ],
   "source": [
    "# 计算每个prompt和completion的长度\n",
    "df['prompt_length'] = df['Question'].apply(lambda x: len(tokenizer.encode(x, add_special_tokens=False)))\n",
    "df['completion_length'] = df['Answer'].apply(lambda x: len(tokenizer.encode(x, add_special_tokens=False)))\n",
    "\n",
    "# 打印长度统计信息\n",
    "print(\"Prompt长度统计:\")\n",
    "print(df['prompt_length'].describe())\n",
    "\n",
    "print(\"\\nCompletion长度统计:\")\n",
    "print(df['completion_length'].describe())\n",
    "\n",
    "# 可视化长度分布（如果需要）\n",
    "import matplotlib.pyplot as plt\n",
    "\n",
    "plt.hist(df['prompt_length'], bins=50, alpha=0.5, label='Prompt Length')\n",
    "plt.hist(df['completion_length'], bins=50, alpha=0.5, label='Completion Length')\n",
    "plt.legend(loc='upper right')\n",
    "plt.xlabel('Token Length')\n",
    "plt.ylabel('Frequency')\n",
    "plt.title('Prompt and Completion Length Distribution')\n",
    "plt.show()\n"
   ]
  },
  {
   "cell_type": "code",
   "execution_count": 106,
   "id": "8e97fe71-7039-4683-9ce9-d31132f3807a",
   "metadata": {},
   "outputs": [
    {
     "data": {
      "application/vnd.jupyter.widget-view+json": {
       "model_id": "27560b46b8324af3ba4495d5e1678424",
       "version_major": 2,
       "version_minor": 0
      },
      "text/plain": [
       "Generating train split: 0 examples [00:00, ? examples/s]"
      ]
     },
     "metadata": {},
     "output_type": "display_data"
    },
    {
     "data": {
      "application/vnd.jupyter.widget-view+json": {
       "model_id": "8a10e611a041479da7a53a8ee394f161",
       "version_major": 2,
       "version_minor": 0
      },
      "text/plain": [
       "Map:   0%|          | 0/166 [00:00<?, ? examples/s]"
      ]
     },
     "metadata": {},
     "output_type": "display_data"
    },
    {
     "data": {
      "text/html": [
       "\n",
       "    <div>\n",
       "      \n",
       "      <progress value='840' max='840' style='width:300px; height:20px; vertical-align: middle;'></progress>\n",
       "      [840/840 07:14, Epoch 20/20]\n",
       "    </div>\n",
       "    <table border=\"1\" class=\"dataframe\">\n",
       "  <thead>\n",
       " <tr style=\"text-align: left;\">\n",
       "      <th>Step</th>\n",
       "      <th>Training Loss</th>\n",
       "    </tr>\n",
       "  </thead>\n",
       "  <tbody>\n",
       "    <tr>\n",
       "      <td>500</td>\n",
       "      <td>2.825000</td>\n",
       "    </tr>\n",
       "  </tbody>\n",
       "</table><p>"
      ],
      "text/plain": [
       "<IPython.core.display.HTML object>"
      ]
     },
     "metadata": {},
     "output_type": "display_data"
    },
    {
     "data": {
      "text/plain": [
       "TrainOutput(global_step=840, training_loss=2.6307755243210567, metrics={'train_runtime': 435.6656, 'train_samples_per_second': 7.621, 'train_steps_per_second': 1.928, 'total_flos': 338863104000000.0, 'train_loss': 2.6307755243210567, 'epoch': 20.0})"
      ]
     },
     "execution_count": 106,
     "metadata": {},
     "output_type": "execute_result"
    }
   ],
   "source": [
    "from transformers import GPT2LMHeadModel, GPT2Tokenizer, Trainer, TrainingArguments\n",
    "from datasets import load_dataset\n",
    "import torch\n",
    "\n",
    "\n",
    "# Load pre-trained model and tokenizer\n",
    "model_name = 'gpt2'  # You can use other models as well\n",
    "model = GPT2LMHeadModel.from_pretrained(model_name)\n",
    "tokenizer = GPT2Tokenizer.from_pretrained(model_name)\n",
    "\n",
    "# Load your formatted dataset\n",
    "dataset = load_dataset('json', data_files=formatted_file_path, split='train')\n",
    "\n",
    "tokenizer.pad_token = tokenizer.eos_token\n",
    "\n",
    "# Tokenize the dataset\n",
    "# 定义tokenize函数\n",
    "def tokenize_function(examples):\n",
    "    # 确保 inputs 和 labels 都使用相同的 tokenization 方式\n",
    "    inputs = tokenizer(examples[\"prompt\"], padding=\"max_length\", truncation=True, max_length=200)\n",
    "    labels = tokenizer(examples[\"completion\"], padding=\"max_length\", truncation=True, max_length=200)\n",
    "    inputs[\"labels\"] = labels[\"input_ids\"]\n",
    "    return inputs\n",
    "    \n",
    "# 使用map函数对数据进行tokenize\n",
    "tokenized_datasets = dataset.map(tokenize_function, batched=True)\n",
    "\n",
    "\n",
    "# Fine-tuning arguments\n",
    "training_args = TrainingArguments(\n",
    "    output_dir=\"./results\",\n",
    "    overwrite_output_dir=True,\n",
    "    num_train_epochs=20,\n",
    "    per_device_train_batch_size=4,\n",
    "    save_steps=500,\n",
    "    save_total_limit=2,\n",
    "    learning_rate=5e-5,  # 调整学习率\n",
    "    prediction_loss_only=True,  # 只计算损失\n",
    ")\n",
    "\n",
    "\n",
    "trainer = Trainer(\n",
    "    model=model,\n",
    "    args=training_args,\n",
    "    train_dataset=tokenized_datasets,\n",
    "    tokenizer=tokenizer,  # 确保tokenizer被传递\n",
    "    data_collator=lambda data: {\n",
    "        'input_ids': torch.tensor([f[\"input_ids\"] for f in data]),\n",
    "        'attention_mask': torch.tensor([f[\"attention_mask\"] for f in data]),\n",
    "        'labels': torch.tensor([f[\"labels\"] for f in data])\n",
    "    }\n",
    ")\n",
    "# Fine-tune the model\n",
    "trainer.train()\n"
   ]
  },
  {
   "cell_type": "code",
   "execution_count": 109,
   "id": "458bc222-40e6-4bef-855e-0eec236b4c5c",
   "metadata": {},
   "outputs": [
    {
     "name": "stdout",
     "output_type": "stream",
     "text": [
      "The history saving thread hit an unexpected error (OperationalError('attempt to write a readonly database')).History will not be written to the database.\n"
     ]
    },
    {
     "data": {
      "text/plain": [
       "('/Users/coco/Downloads/learning_chatbot/models/qa_model/tokenizer_config.json',\n",
       " '/Users/coco/Downloads/learning_chatbot/models/qa_model/special_tokens_map.json',\n",
       " '/Users/coco/Downloads/learning_chatbot/models/qa_model/vocab.json',\n",
       " '/Users/coco/Downloads/learning_chatbot/models/qa_model/merges.txt',\n",
       " '/Users/coco/Downloads/learning_chatbot/models/qa_model/added_tokens.json')"
      ]
     },
     "execution_count": 109,
     "metadata": {},
     "output_type": "execute_result"
    }
   ],
   "source": [
    "# 保存微调后的模型\n",
    "model.save_pretrained('/Users/coco/Downloads/learning_chatbot/models/qa_model')\n",
    "tokenizer.save_pretrained('/Users/coco/Downloads/learning_chatbot/models/qa_model')"
   ]
  },
  {
   "cell_type": "code",
   "execution_count": 110,
   "id": "9f32359e-bddd-4772-b6f9-6a08c87d9903",
   "metadata": {},
   "outputs": [
    {
     "name": "stderr",
     "output_type": "stream",
     "text": [
      "Hardware accelerator e.g. GPU is available in the environment, but no `device` argument is passed to the `Pipeline` object. Model will be on CPU.\n"
     ]
    }
   ],
   "source": [
    "from transformers import pipeline\n",
    "\n",
    "# 加载微调后的模型\n",
    "qa_pipeline = pipeline('text-generation', model='/Users/coco/Downloads/learning_chatbot/models/qa_model')\n"
   ]
  },
  {
   "cell_type": "code",
   "execution_count": 111,
   "id": "592fcb23-ddb6-4024-b7b6-a7935d1e62f7",
   "metadata": {},
   "outputs": [
    {
     "name": "stderr",
     "output_type": "stream",
     "text": [
      "Truncation was not explicitly activated but `max_length` is provided a specific value, please use `truncation=True` to explicitly truncate examples to max length. Defaulting to 'longest_first' truncation strategy. If you encode pairs of sequences (GLUE-style) with the tokenizer you can select this strategy more precisely by providing a specific strategy to `truncation`.\n"
     ]
    },
    {
     "name": "stdout",
     "output_type": "stream",
     "text": [
      "Q: What is supervised machine learning?\n",
      "A: Q: What is supervised machine learning?\n",
      "A: Machine Learning a the features are, of-. The - and we can model or learn in an to be as for training with ( data which) that output on feature not input want same dataset each items impurity problem need other\n",
      "\n",
      "Q: What methods for solving linear regression do you know? \n",
      "A: Q: What methods for solving linear regression do you know? \n",
      "A:. In, to a) ( theigen_ of * or and/or- which^{_{X} is}{\\math x}) -(x coefficients y),y by1= sum2 squared squares\" befitting with` as are can solve that problem it matrix ` X values Y coefficient square inrender hyperBias `` +axis B _ = where value <=\"true\">%> true bias False negative Negative positive Positive false negatives zero 0\n",
      "\n",
      "Q: What is the normal distribution? Why do we care about it? \n",
      "A: Q: What is the normal distribution? Why do we care about it? \n",
      "A:. a of, or in- there regular curve that are other features to be skewed one and not all as (%)>/** mean variance between different ** for more variable than * with this lot canality means overfitting error rate at 99\n",
      "\n"
     ]
    }
   ],
   "source": [
    "questions = [\n",
    "    \"What is supervised machine learning?\",\n",
    "    \"What methods for solving linear regression do you know? \",\n",
    "    \"What is the normal distribution? Why do we care about it? \"\n",
    "]\n",
    "\n",
    "# 使用模型生成答案\n",
    "for question in questions:\n",
    "    prompt = f\"Q: {question}\\nA:\"\n",
    "    answers = qa_pipeline(\n",
    "    prompt, \n",
    "    max_length=120, \n",
    "    temperature=0.5, \n",
    "    top_k=38, \n",
    "    top_p=0.85,\n",
    "    repetition_penalty=2.0\n",
    ")\n",
    "    generated_text = answers[0]['generated_text']\n",
    "    print(f\"Q: {question}\\nA: {generated_text}\\n\")"
   ]
  },
  {
   "cell_type": "markdown",
   "id": "faca2f80-3613-4745-9c72-5c6205204482",
   "metadata": {
    "jp-MarkdownHeadingCollapsed": true
   },
   "source": [
    "# "
   ]
  },
  {
   "cell_type": "code",
   "execution_count": null,
   "id": "ef3f75b8-c39a-4112-8d24-d3c532da6fd9",
   "metadata": {},
   "outputs": [],
   "source": []
  },
  {
   "cell_type": "code",
   "execution_count": null,
   "id": "29a13a48-ee1c-482f-95f0-518631bb3ea2",
   "metadata": {},
   "outputs": [],
   "source": []
  },
  {
   "cell_type": "code",
   "execution_count": null,
   "id": "b86dbb98-677f-4c7e-9785-f41d9621c8f4",
   "metadata": {},
   "outputs": [],
   "source": []
  },
  {
   "cell_type": "code",
   "execution_count": null,
   "id": "51c99b34-586d-44b6-9e8d-f14d90bd3169",
   "metadata": {},
   "outputs": [],
   "source": []
  },
  {
   "cell_type": "code",
   "execution_count": null,
   "id": "18a13e5e-0388-45b3-aae8-75b1aa9b1dbc",
   "metadata": {},
   "outputs": [],
   "source": []
  },
  {
   "cell_type": "code",
   "execution_count": null,
   "id": "449165a6-bb52-4241-bead-b24d88ff466a",
   "metadata": {},
   "outputs": [],
   "source": []
  },
  {
   "cell_type": "code",
   "execution_count": null,
   "id": "92e04c35-645a-4c61-a264-5e50a47c957d",
   "metadata": {},
   "outputs": [],
   "source": []
  },
  {
   "cell_type": "code",
   "execution_count": null,
   "id": "98aca2fa-281b-4dde-b359-f3cdb3989b9d",
   "metadata": {},
   "outputs": [],
   "source": []
  },
  {
   "cell_type": "code",
   "execution_count": null,
   "id": "e2db6cee-81b4-4b71-88b5-5a15e337cc42",
   "metadata": {},
   "outputs": [],
   "source": []
  },
  {
   "cell_type": "code",
   "execution_count": null,
   "id": "9fa9b2a3-d653-4085-a355-b21353a15c0c",
   "metadata": {},
   "outputs": [],
   "source": []
  },
  {
   "cell_type": "code",
   "execution_count": null,
   "id": "66643d22-385d-43ec-9ad6-81e8c352bd37",
   "metadata": {},
   "outputs": [],
   "source": []
  },
  {
   "cell_type": "code",
   "execution_count": null,
   "id": "87837fd3-49a1-40e2-87ad-4ffdcad47a42",
   "metadata": {},
   "outputs": [],
   "source": []
  },
  {
   "cell_type": "code",
   "execution_count": null,
   "id": "b1f05e7e-595f-47fc-90ff-b11e2dd9a682",
   "metadata": {},
   "outputs": [],
   "source": []
  },
  {
   "cell_type": "code",
   "execution_count": null,
   "id": "498ef699-54c8-433c-87e4-03c48f77fa09",
   "metadata": {},
   "outputs": [],
   "source": []
  },
  {
   "cell_type": "code",
   "execution_count": null,
   "id": "e87dc518-a61f-46a7-921b-6c4ea188af09",
   "metadata": {},
   "outputs": [],
   "source": []
  },
  {
   "cell_type": "code",
   "execution_count": null,
   "id": "bca97122-2c7c-498e-89f6-89d9255bd13c",
   "metadata": {},
   "outputs": [],
   "source": []
  },
  {
   "cell_type": "code",
   "execution_count": null,
   "id": "c38ca091-ecd4-4a4f-b211-8783e0f08110",
   "metadata": {},
   "outputs": [],
   "source": []
  },
  {
   "cell_type": "code",
   "execution_count": null,
   "id": "975c22c6-add6-4592-98d6-1ed9deecc1fd",
   "metadata": {},
   "outputs": [],
   "source": []
  },
  {
   "cell_type": "code",
   "execution_count": null,
   "id": "bb67ec09-ea92-4942-84f0-b56d3ddcbfa0",
   "metadata": {},
   "outputs": [],
   "source": []
  },
  {
   "cell_type": "code",
   "execution_count": null,
   "id": "aa527a06-bbd1-4c58-9d51-a4d6071124d0",
   "metadata": {},
   "outputs": [],
   "source": []
  },
  {
   "cell_type": "code",
   "execution_count": null,
   "id": "97f19499-2cf8-4075-bd07-4346d388f41c",
   "metadata": {},
   "outputs": [],
   "source": []
  },
  {
   "cell_type": "code",
   "execution_count": null,
   "id": "107e5cc8-8846-4cf9-a0a3-3686d5da35a1",
   "metadata": {},
   "outputs": [],
   "source": []
  },
  {
   "cell_type": "code",
   "execution_count": null,
   "id": "36393fea-6fa0-4aa7-b63c-128098255edc",
   "metadata": {},
   "outputs": [],
   "source": [
    "                       "
   ]
  }
 ],
 "metadata": {
  "kernelspec": {
   "display_name": "Python 3 (ipykernel)",
   "language": "python",
   "name": "python3"
  },
  "language_info": {
   "codemirror_mode": {
    "name": "ipython",
    "version": 3
   },
   "file_extension": ".py",
   "mimetype": "text/x-python",
   "name": "python",
   "nbconvert_exporter": "python",
   "pygments_lexer": "ipython3",
   "version": "3.12.4"
  }
 },
 "nbformat": 4,
 "nbformat_minor": 5
}
